{
  "cells": [
    {
      "cell_type": "markdown",
      "id": "c967b351",
      "metadata": {},
      "source": [
        "# 2: Data Structures, Searching, and Sorting\n",
        "\n",
        "-   Bhargava: Chapter 5\n",
        "\n",
        "    -   5.1 to 5.4\n",
        "\n",
        "It’s important for hash functions to consistently return the same output for the same input. If they don’t, you won’t be able to find your item after you put it in the hash table!\n",
        "\n",
        "Which of these hash functions are consistent?\n",
        "\n",
        "- 5.1 f(x) = 1      ← Returns 1 for all input\n",
        "**Consistent**\n",
        "- 5.2 f(x) = rand()      ← Returns a random number every time\n",
        "**Not consistent**\n",
        "- 5.3 f(x) = next_empty_slot()      ← Returns the index of the next empty slot in the hash table\n",
        "**Not consistent**\n",
        "- 5.4 f(x) = len(x)      ← Uses the length of the string as the index\n",
        "**Consistent**\n"
      ]
    },
    {
      "cell_type": "markdown",
      "id": "cdde6e73",
      "metadata": {},
      "source": [
        "\n",
        "-   Give examples of 2 situations to use a queue and 2 situations to use\n",
        "    a stack\n"
      ]
    },
    {
      "cell_type": "code",
      "execution_count": null,
      "id": "f167b945",
      "metadata": {},
      "outputs": [],
      "source": [
        "# Your code here"
      ]
    },
    {
      "cell_type": "markdown",
      "id": "69af89ae",
      "metadata": {},
      "source": [
        "\n",
        "-   In Python, code a `stack` class with `is_empty`, `push`, and `pop`\n",
        "    methods using the end of a Python list as the top of the stack.\n",
        "    Bonus: Compare the run time of using the start of the list versus\n",
        "    the end of the list as the top of the stack using the `timeit`\n",
        "    library!\n"
      ]
    },
    {
      "cell_type": "code",
      "execution_count": null,
      "id": "b7469ec3",
      "metadata": {},
      "outputs": [],
      "source": [
        "# Your code here"
      ]
    },
    {
      "cell_type": "markdown",
      "id": "1ab22994",
      "metadata": {},
      "source": [
        "\n",
        "-   In Python, code a `binary_search` function.\n"
      ]
    },
    {
      "cell_type": "code",
      "execution_count": null,
      "id": "b6220791",
      "metadata": {},
      "outputs": [],
      "source": [
        "# Your code here"
      ]
    },
    {
      "cell_type": "markdown",
      "id": "a19b4c47",
      "metadata": {},
      "source": [
        "\n",
        "-   In Python, code a `hash_table` that can hash 4 values.\n"
      ]
    },
    {
      "cell_type": "code",
      "execution_count": null,
      "id": "e5fe66d6",
      "metadata": {},
      "outputs": [],
      "source": [
        "# Your code here"
      ]
    }
  ],
  "metadata": {
    "kernelspec": {
      "display_name": "Python 3",
      "language": "python",
      "name": "python3"
    }
  },
  "nbformat": 4,
  "nbformat_minor": 5
}
