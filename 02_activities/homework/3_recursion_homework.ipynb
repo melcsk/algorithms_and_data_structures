{
  "cells": [
    {
      "cell_type": "markdown",
      "id": "bc8494e5",
      "metadata": {},
      "source": [
        "# 3: Recursion\n",
        "\n",
        "-   Bhargava: Chapter 4 exercises\n",
        "    -   4.1 to 4.8\n",
        "\n",
        "- 4.1 Write out the code for the earlier sum function.\n",
        "\n",
        "\n",
        "- 4.2 Write a recursive function to count the number of items in a list.\n",
        "\n",
        "\n",
        "- 4.3 Write a recursive function to find the maximum number in a list.\n",
        "\n",
        "\n",
        "- 4.4 Remember binary search from chapter 1? It’s a D&C algorithm, too. Can you come up with the base case and recursive case for binary search?\n",
        "\n",
        "\n",
        "How long would each of these operations take in big O notation?\n",
        "\n",
        "- 4.5 Printing the value of each element in an array.\n",
        "\n",
        "\n",
        "- 4.6 Doubling the value of each element in an array.\n",
        "\n",
        "\n",
        "- 4.7 Doubling the value of just the first element in an array.\n",
        "\n",
        "\n",
        "- 4.8 Creating a multiplication table with all the elements in the array. So if your array is [2, 3, 7, 8, 10], you first multiply every element by 2, then multiply every element by 3, then by 7, and so on."
      ]
    },
    {
      "cell_type": "code",
      "execution_count": null,
      "id": "b91dc2a6",
      "metadata": {},
      "outputs": [],
      "source": [
        "# Your code here"
      ]
    },
    {
      "cell_type": "markdown",
      "id": "c6f4ba73",
      "metadata": {},
      "source": [
        "\n",
        "-   Write a recursive function that produces the\n",
        "    `RecursionError: maximum recursion depth exceeded` error.\n"
      ]
    },
    {
      "cell_type": "code",
      "execution_count": null,
      "id": "aad8ef5f",
      "metadata": {},
      "outputs": [],
      "source": [
        "# Your code here"
      ]
    },
    {
      "cell_type": "markdown",
      "id": "812428fe",
      "metadata": {},
      "source": [
        "\n",
        "-   Write a iterative function to calculate the $n$th Fibonacci number.\n",
        "    What is its time and space complexity?\n"
      ]
    },
    {
      "cell_type": "code",
      "execution_count": null,
      "id": "8707a768",
      "metadata": {},
      "outputs": [],
      "source": [
        "# Your code here"
      ]
    },
    {
      "cell_type": "markdown",
      "id": "4f69b976",
      "metadata": {},
      "source": [
        "\n",
        "-   Write a recursive function to determine if a string is a palindrome.\n",
        "    What is its time and space complexity?\n"
      ]
    },
    {
      "cell_type": "code",
      "execution_count": null,
      "id": "1e77b6d6",
      "metadata": {},
      "outputs": [],
      "source": [
        "# Your code here"
      ]
    },
    {
      "cell_type": "markdown",
      "id": "a25c6ecc",
      "metadata": {},
      "source": [
        "\n",
        "-   Write a recursive function to check if a given positive integer is a\n",
        "    prime number. What is its time and space complexity?\n"
      ]
    },
    {
      "cell_type": "code",
      "execution_count": null,
      "id": "09f85e69",
      "metadata": {},
      "outputs": [],
      "source": [
        "# Your code here"
      ]
    },
    {
      "cell_type": "markdown",
      "id": "abe26857",
      "metadata": {},
      "source": [
        "\n",
        "-   Suppose you have a plot of land and want to divide the land into\n",
        "    even square plots, while keeping the plots as big as possible. How\n",
        "    would you do this using D&C? See Bhargava pg. 52.\n"
      ]
    },
    {
      "cell_type": "code",
      "execution_count": null,
      "id": "ffb7e377",
      "metadata": {},
      "outputs": [],
      "source": [
        "# Your code here"
      ]
    },
    {
      "cell_type": "markdown",
      "id": "7b8b36ed",
      "metadata": {},
      "source": [
        "\n",
        "-   Explain why the “merge” step in mergesort is $O(n)$\n"
      ]
    },
    {
      "cell_type": "code",
      "execution_count": null,
      "id": "b3176290",
      "metadata": {},
      "outputs": [],
      "source": [
        "# Your code here"
      ]
    },
    {
      "cell_type": "markdown",
      "id": "2ded9965",
      "metadata": {},
      "source": [
        "\n",
        "-   Implement mergesort. You might find using helper functions useful.\n"
      ]
    },
    {
      "cell_type": "code",
      "execution_count": null,
      "id": "f9447db8",
      "metadata": {},
      "outputs": [],
      "source": [
        "# Your code here"
      ]
    },
    {
      "cell_type": "markdown",
      "id": "44d62627",
      "metadata": {},
      "source": [
        "\n",
        "-   Write a recursive function to perform binary search on a sorted list\n"
      ]
    },
    {
      "cell_type": "code",
      "execution_count": null,
      "id": "b6a972f3",
      "metadata": {},
      "outputs": [],
      "source": [
        "# Your code here"
      ]
    }
  ],
  "metadata": {
    "kernelspec": {
      "display_name": "Python 3",
      "language": "python",
      "name": "python3"
    }
  },
  "nbformat": 4,
  "nbformat_minor": 5
}
