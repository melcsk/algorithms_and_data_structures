{
  "cells": [
    {
      "cell_type": "markdown",
      "id": "79078d67-1cad-401a-81b3-4d4c6b9548f3",
      "metadata": {},
      "source": [
        "# 1: Motivation and Big-O\n",
        "\n",
        "-   Cormen: Chapter 1 exercises\n",
        "\n",
        "    -   1.2-1, 1.2-2, 1.2-3\n",
        "\n",
        "-   Bhargava: Chapter 1 exercises\n",
        "\n",
        "    -   1.3 to 1.5\n",
        "\n",
        "-   Additional (for the mathematically inclined)\n",
        "\n",
        "    -   In CS, log is usually base 2, but a strong distinction is not\n",
        "        made because *logs of different bases only differ by a constant\n",
        "        factor* and constants are dropped in Big-O. Show this is true\n",
        "\n",
        "    -   Show that exponents of different bases **do not** differ by a\n",
        "        constant factor\n"
      ]
    },
    {
      "cell_type": "code",
      "execution_count": null,
      "id": "4b64abc2",
      "metadata": {},
      "outputs": [],
      "source": [
        "# Your code here"
      ]
    }
  ],
  "metadata": {
    "kernelspec": {
      "display_name": "Python 3",
      "language": "python",
      "name": "python3"
    }
  },
  "nbformat": 4,
  "nbformat_minor": 5
}
