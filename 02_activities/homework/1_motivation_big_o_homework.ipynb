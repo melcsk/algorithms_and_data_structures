{
  "cells": [
    {
      "cell_type": "markdown",
      "id": "79078d67-1cad-401a-81b3-4d4c6b9548f3",
      "metadata": {},
      "source": [
        "# 1: Motivation and Big-O\n",
        "\n",
        "-   Cormen: Chapter 1 exercises\n",
        "\n",
        "    -   1.2-1, 1.2-2, 1.2-3\n",
        "\n",
        "-   Bhargava: Chapter 1 exercises\n",
        "\n",
        "    -   1.3 to 1.5\n",
        "            \n",
        "-   Additional (for the mathematically inclined)\n",
        "\n",
        "    -   In CS, log is usually base 2, but a strong distinction is not\n",
        "        made because *logs of different bases only differ by a constant\n",
        "        factor* and constants are dropped in Big-O. Show this is true\n",
        "\n",
        "    -   Show that exponents of different bases **do not** differ by a\n",
        "        constant factor\n"
      ]
    },
    {
      "cell_type": "markdown",
      "id": "21188232",
      "metadata": {},
      "source": [
        "### Cormen: Chapter 1 exercises 1.2-1, 1.2-2, 1.2-3\n",
        "\n",
        "- 1.2-1: Give an example of an application that requires algorithmic content at the application level, and discuss the function of the algorithms involved.\n",
        "\n",
        "- 1.2-2: Suppose we are comparing implementations of insertion sort and merge sort on the same machine. For inputs of size n, insertion sort runs in 8n2 steps, while merge sort runs in 64n lg n steps. For which values of n does insertion sort beat merge sort?\n",
        "\n",
        "- 1.2-3: What is the smallest value of n such that an algorithm whose running time is 100n2 runs faster than an algorithm whose running time is 2n on the same machine?\n",
        "\n",
        "\n",
        "### Bhargava: Chapter 1 exercises 1.3 to 1.5\n",
        "\n",
        "Give the run time for each of these scenarios in terms of big O.\n",
        "\n",
        "- 1.3: You have a name, and you want to find the person's phone number in the phone book.\n",
        "\n",
        "- 1.4: You have a phone number, and you want to find the person's name in the phone book. (Hint: You'll have to search through the whole book!)\n",
        "    \n",
        "- 1.5: You want to read the numbers of every person in the phone book."
      ]
    },
    {
      "cell_type": "code",
      "execution_count": null,
      "id": "4b64abc2",
      "metadata": {},
      "outputs": [],
      "source": [
        "# Your code here"
      ]
    }
  ],
  "metadata": {
    "kernelspec": {
      "display_name": "Python 3",
      "language": "python",
      "name": "python3"
    }
  },
  "nbformat": 4,
  "nbformat_minor": 5
}
