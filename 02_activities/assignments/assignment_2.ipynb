{
 "cells": [
  {
   "cell_type": "markdown",
   "metadata": {},
   "source": [
    "# Practice Interview\n",
    "\n",
    "## Objective\n",
    "\n",
    "_*The partner assignment aims to provide participants with the opportunity to practice coding in an interview context. You will analyze your partner's Assignment 1. Moreover, code reviews are common practice in a software development team. This assignment should give you a taste of the code review process.*_\n",
    "\n",
    "## Group Size\n",
    "\n",
    "Each group should have 2 people. You will be assigned a partner\n",
    "\n",
    "## Parts:\n",
    "- Part 1: Complete 1 of 3 questions\n",
    "- Part 2: Review your partner's Assignment 1 submission\n",
    "- Part 3: Perform code review of your partner's assignment 1 by answering the questions below\n",
    "- Part 3: Reflect on Assignment 1 and Assignment 2\n",
    "\n",
    "## Part 1:\n",
    "\n",
    "_*You will be assigned one of three problems based of your first name. Enter your first name, in all lower case, execute the code below, and that will tell you your assigned problem. Include the output as part of your submission (do not clear the output). The problems are based-off problems from Leetcode.*_"
   ]
  },
  {
   "cell_type": "code",
   "execution_count": 1,
   "metadata": {},
   "outputs": [
    {
     "name": "stdout",
     "output_type": "stream",
     "text": [
      "1\n"
     ]
    }
   ],
   "source": [
    "import hashlib\n",
    "\n",
    "def hash_to_range(input_string: str) -> int:\n",
    "     hash_object = hashlib.sha256(input_string.encode())\n",
    "     hash_int = int(hash_object.hexdigest(), 16)\n",
    "     return (hash_int % 3) + 1\n",
    "input_string = \"melanie\"\n",
    "result = hash_to_range(input_string)\n",
    "print(result)\n"
   ]
  },
  {
   "cell_type": "markdown",
   "metadata": {},
   "source": [
    "<details>\n",
    "  <summary>Question 1</summary>\n",
    "\n",
    "  # Question One: Check Duplicates in Tree\n",
    "\n",
    "  Given the `root` of a binary tree, check whether it is contains a duplicate value. If a duplicate exists, return the duplicate value. If there are multiple duplicates, return the one with the closest distance to the root. If no duplicate exists, return -1.\n",
    "\n",
    "  ## Examples\n",
    "\n",
    "  ### Example 1\n",
    "\n",
    "  ![](./images/q1_ex1.png)\n",
    "\n",
    "  Input: `root = [1, 2, 2, 3, 5, 6, 7]` *What traversal method is this?*\n",
    "\n",
    "  Output: 2\n",
    "\n",
    "  ### Example 2\n",
    "\n",
    "  ![](./images/q1_ex2.png)\n",
    "\n",
    "  Input: `root = [1, 10, 2, 3, 10, 12, 12]`\n",
    "\n",
    "  Output: 10\n",
    "\n",
    "  ### Example 3\n",
    "\n",
    "  ![](./images/q1_ex3.png)\n",
    "\n",
    "  Input: `root = [10, 9, 8, 7]`\n",
    "\n",
    "  Output: -1\n",
    "\n",
    "</details>\n",
    "\n",
    "#### Starter Code for Question 1"
   ]
  },
  {
   "cell_type": "code",
   "execution_count": 1,
   "metadata": {},
   "outputs": [],
   "source": [
    "# Definition for a binary tree node.\n",
    "class TreeNode(object):\n",
    "    def __init__(self, val = 0, left = None, right = None):\n",
    "        self.val = val\n",
    "        self.left = left\n",
    "        self.right = right\n",
    "\n",
    "# Breadth first search (BFS) traversal\n",
    "from collections import deque\n",
    "\n",
    "def is_duplicate(root: TreeNode) -> int:\n",
    "    if not root:\n",
    "        return []\n",
    "    \n",
    "    duplicates = [] # Store duplicate values\n",
    "    count_map = {} # Store value count\n",
    "    queue = deque([root]) # Set up queue for BFS traversal\n",
    "\n",
    "    while queue:\n",
    "        node = queue.popleft()\n",
    "\n",
    "        count_map[node.val] = count_map.get(node.val, 0) + 1 # Update count\n",
    "\n",
    "        if count_map[node.val] == 2: # Add to duplicates list when count = 2\n",
    "            duplicates.append(node.val)\n",
    "\n",
    "        # If not, proceed to add children to the queue\n",
    "        if node.left:\n",
    "            queue.append(node.left)\n",
    "        if node.right:\n",
    "            queue.append(node.right)\n",
    "            \n",
    "    return duplicates"
   ]
  },
  {
   "cell_type": "code",
   "execution_count": 2,
   "metadata": {},
   "outputs": [
    {
     "name": "stdout",
     "output_type": "stream",
     "text": [
      "Output: 2\n"
     ]
    }
   ],
   "source": [
    "# Test example input 1\n",
    "root = TreeNode(1)\n",
    "root.left = TreeNode(2)\n",
    "root.right = TreeNode(2)\n",
    "root.left.left = TreeNode(3)\n",
    "root.left.right = TreeNode(5)\n",
    "root.right.left = TreeNode(6)\n",
    "root.right.right = TreeNode(7)\n",
    "\n",
    "duplicate = is_duplicate(root)\n",
    "\n",
    "if len(duplicate) != 0: \n",
    "    print(f\"Output: {duplicate[0]}\")\n",
    "else:\n",
    "    print(\"Output: -1\")"
   ]
  },
  {
   "cell_type": "code",
   "execution_count": 3,
   "metadata": {},
   "outputs": [
    {
     "name": "stdout",
     "output_type": "stream",
     "text": [
      "Output: 10\n"
     ]
    }
   ],
   "source": [
    "# Test example input 2\n",
    "root = TreeNode(1)\n",
    "root.left = TreeNode(10)\n",
    "root.right = TreeNode(2)\n",
    "root.left.left = TreeNode(3)\n",
    "root.left.right = TreeNode(10)\n",
    "root.right.left = TreeNode(12)\n",
    "root.right.right = TreeNode(12)\n",
    "\n",
    "duplicate = is_duplicate(root)\n",
    "\n",
    "if len(duplicate) != 0: \n",
    "    print(f\"Output: {duplicate[0]}\")\n",
    "else:\n",
    "    print(\"Output: -1\")"
   ]
  },
  {
   "cell_type": "code",
   "execution_count": 4,
   "metadata": {},
   "outputs": [
    {
     "name": "stdout",
     "output_type": "stream",
     "text": [
      "Output: -1\n"
     ]
    }
   ],
   "source": [
    "# Test example input 3\n",
    "root = TreeNode(10)\n",
    "root.left = TreeNode(9)\n",
    "root.right = TreeNode(8)\n",
    "root.left.left = TreeNode(7)\n",
    "\n",
    "duplicate = is_duplicate(root)\n",
    "\n",
    "if len(duplicate) != 0: \n",
    "    print(f\"Output: {duplicate[0]}\")\n",
    "else:\n",
    "    print(\"Output: -1\")"
   ]
  },
  {
   "cell_type": "markdown",
   "metadata": {},
   "source": [
    "<details>\n",
    "  <summary>Question 2</summary>\n",
    "\n",
    "  # Question Two: Path to Leaves\n",
    "\n",
    "  Given the `root` of a binary tree, return all root to leaf paths in any order.\n",
    "\n",
    "  ## Examples\n",
    "\n",
    "  ### Example 1\n",
    "\n",
    "  ![](./images/q1_ex1.png)\n",
    "\n",
    "  Input: `root = [1, 2, 2, 3, 5, 6, 7]` *What traversal method is this?*\n",
    "\n",
    "  Output: [[1, 2, 3], [1, 2, 5], [1, 2, 6], [1, 2, 7]]\n",
    "\n",
    "  ### Example 2\n",
    "\n",
    "  ![](./images/q1_ex3.png)\n",
    "\n",
    "  Input: `root = [10, 9, 7, 8]`\n",
    "\n",
    "  Output: [[10, 7], [10, 9, 8]]\n",
    "\n",
    "</details>\n",
    "\n",
    "#### Starter Code for Question 2"
   ]
  },
  {
   "cell_type": "code",
   "execution_count": null,
   "metadata": {},
   "outputs": [],
   "source": [
    "# Definition for a binary tree node.\n",
    "# class TreeNode(object):\n",
    "#     def __init__(self, val = 0, left = None, right = None):\n",
    "#         self.val = val\n",
    "#         self.left = left\n",
    "#         self.right = right\n",
    "def bt_path(root: TreeNode) -> List[List[int]]:\n",
    "  # TODO"
   ]
  },
  {
   "cell_type": "markdown",
   "metadata": {},
   "source": [
    "<details>\n",
    "  <summary>Question 3</summary>\n",
    "\n",
    "  # Question Three: Missing Number in Range\n",
    " \n",
    "  You are given a list containing `n` integers in the range `[0, n]`. Return a list of numbers that are missing from the range `[0, n]` of the array. If there is no missing number, return -1. Note, all the integers in the list may not be unique.\n",
    "  \n",
    "  ## Examples\n",
    "\n",
    "  ### Example 1\n",
    "\n",
    "  Input: `lst = [0, 2]`\n",
    "\n",
    "  Output: [1]\n",
    "\n",
    "  ### Example 2\n",
    "\n",
    "  Input: `lst = [5, 0, 1]`\n",
    "\n",
    "  Output: [2, 3, 4]\n",
    "\n",
    "  ### Example 3\n",
    "\n",
    "  Input: `lst = [6, 8, 2, 3, 5, 7, 0, 1, 10]`\n",
    "\n",
    "  Output: [4, 9]\n",
    "\n",
    "</details>\n",
    "\n",
    "#### Starter Code for Question 3\n"
   ]
  },
  {
   "cell_type": "code",
   "execution_count": null,
   "metadata": {
    "scrolled": true
   },
   "outputs": [],
   "source": [
    "def missing_num(nums: List) -> int:\n",
    "  # TODO"
   ]
  },
  {
   "cell_type": "markdown",
   "metadata": {
    "jp-MarkdownHeadingCollapsed": true
   },
   "source": [
    "## Part 2:\n",
    "\n",
    "You and your partner must share each other's Assignment 1 submission."
   ]
  },
  {
   "cell_type": "markdown",
   "metadata": {},
   "source": [
    "\n",
    "## Part 3:\n",
    "\n",
    "Create a Jupyter Notebook, create 6 of the following headings, and complete the following for your partner's assignment 1:\n",
    "\n",
    "-   Paraphrase the problem in your own words.\n"
   ]
  },
  {
   "cell_type": "code",
   "execution_count": null,
   "metadata": {},
   "outputs": [],
   "source": [
    "# For starter question 2, the input string contains a combination of '(', ')', '[', ']', '{' and '}' characters. \n",
    "# To return a valid bracket sequence, each opening bracket such as '(', '[' and '{' \n",
    "# is closed by a bracket of the same type, that is ')', ']', and '}' respectively. \n",
    " \n",
    "# A valid sequence is balanced and contains an even number of characters\n",
    "# and bracket pairs can also be nested within other correctly paired brackets.\n",
    "# However, a closing bracket cannot appear before its matched opening bracket."
   ]
  },
  {
   "cell_type": "markdown",
   "metadata": {},
   "source": [
    "\n",
    "-   Create 1 new example that demonstrates you understand the problem. Trace/walkthrough 1 example that your partner made and explain it.\n"
   ]
  },
  {
   "cell_type": "code",
   "execution_count": null,
   "metadata": {},
   "outputs": [],
   "source": [
    "# New example:\n",
    "Input = \"(}[]{)\"\n",
    "Output = False \n",
    "# Sequence is invalid and returns False since } appears before {, \n",
    "# even though they are the same type and () and [] are properly matched and paired\n",
    "\n",
    "# Partner's example:\n",
    "Input = \"([]{})\"\n",
    "Output = True \n",
    "# [] and {} are properly matched and paired and are nested within (). So sequence is valid and should return True."
   ]
  },
  {
   "cell_type": "markdown",
   "metadata": {},
   "source": [
    "\n",
    "-   Copy the solution your partner wrote. \n"
   ]
  },
  {
   "cell_type": "code",
   "execution_count": null,
   "metadata": {},
   "outputs": [],
   "source": [
    "# Solution to Starter Question 2 (from DroidPulkit assignment 1, part 2)\n",
    "def is_valid_brackets(s: str) -> bool:\n",
    "    stack = []\n",
    "    brackets = {')': '(', '}': '{', ']': '['}\n",
    "    \n",
    "    for char in s:\n",
    "        if char in '({[':\n",
    "            stack.append(char)\n",
    "        elif char in ')}]':\n",
    "            if stack == [] or len(stack) == 0 or stack.pop() != brackets[char]:\n",
    "                return False\n",
    "        else:\n",
    "            return False  # For invalid characters, if problem allows them\n",
    "    \n",
    "    return len(stack) == 0\n",
    "\n",
    "print(\"expected: False, returned:\", is_valid_brackets(\"a\"))\n",
    "print(\"expected: False, returned:\", is_valid_brackets(\"aa\"))\n",
    "print(\"expected: True, returned:\", is_valid_brackets(\"({[]})\"))\n",
    "print(\"expected: True, returned:\", is_valid_brackets(\"{}\"))\n",
    "print(\"expected: True, returned:\", is_valid_brackets(\"()\"))\n",
    "print(\"expected: True, returned:\", is_valid_brackets(\"[]\"))\n",
    "print(\"expected: True, returned:\", is_valid_brackets(\"{[]}\"))\n",
    "print(\"expected: True, returned:\", is_valid_brackets(\"\"))\n",
    "print(\"expected: False, returned:\", is_valid_brackets(\"(aa)\"))\n",
    "print(\"expected: False, returned:\", is_valid_brackets(\"{123}\"))\n",
    "print(\"expected: False, returned:\", is_valid_brackets(\"123\"))\n",
    "print(\"expected: True, returned:\", is_valid_brackets(\"[{()}]\"))\n",
    "\n",
    "print(\"expected: True, returned:\", is_valid_brackets(\"([]{})\"))\n",
    "print(\"expected: False, returned:\", is_valid_brackets(\"([)]\"))\n",
    "print(\"expected: True, returned:\", is_valid_brackets(\"()[]{}\"))\n",
    "print(\"expected: False, returned:\", is_valid_brackets(\"[{]}\"))"
   ]
  },
  {
   "cell_type": "markdown",
   "metadata": {},
   "source": [
    "\n",
    "-   Explain why their solution works in your own words.\n"
   ]
  },
  {
   "cell_type": "code",
   "execution_count": null,
   "metadata": {},
   "outputs": [],
   "source": [
    "# Stack is created to keep track of open brackets in the order they appear\n",
    "# and brackets dictionary is included to match closed brackets to open brackets.\n",
    "# If open bracket is observed, append to stack.\n",
    "# If closed bracket is observed, check that \n",
    "# (1) stack is not empty (matches an open bracket) and\n",
    "# (2) top of the stack matches current closed bracket.\n",
    "# If conditions (1) and (2) are satisfied, matching open bracket is popped.\n",
    "# If not, bracket sequence is invalid (that is returns False)\n",
    "# There is a final check in case stack is not empty, meaning there is an unpaired character."
   ]
  },
  {
   "cell_type": "markdown",
   "metadata": {},
   "source": [
    "\n",
    "-   Explain the problem’s time and space complexity in your own words.\n"
   ]
  },
  {
   "cell_type": "code",
   "execution_count": null,
   "metadata": {},
   "outputs": [],
   "source": [
    "# Overall time complexity: O(n)\n",
    "# Iteration through n characters in bracket sequence -> O(n)\n",
    "# Stack operations -> O(1)\n",
    "\n",
    "# Overall space complexity: O(n)\n",
    "# For worst case, entire bracket sequence with n characters needs to be processed -> O(n)\n",
    "# Brackets dictionary -> O(1)"
   ]
  },
  {
   "cell_type": "markdown",
   "metadata": {},
   "source": [
    "\n",
    "-   Critique your partner's solution, including explanation, and if there is anything that should be adjusted.\n"
   ]
  },
  {
   "cell_type": "code",
   "execution_count": null,
   "metadata": {},
   "outputs": [],
   "source": [
    "# Partner's solution (from Assignment 1, Part 2) is the best approach to solve problem 2. \n",
    "# It uses a stack, which takes into consideration the order in which the open and closed matching brackets appear.\n",
    "# The time and space complexity of the solution have also been optimized to O(n).\n",
    "\n",
    "# Partner also included a different solution (Assignment 1, Part 1), where a counter approach is used instead.\n",
    "# This does not always work, with nested brackets for instance, since order of the matching brackets matters."
   ]
  },
  {
   "cell_type": "markdown",
   "metadata": {},
   "source": [
    "\n",
    "## Part 4:\n",
    "\n",
    "Please write a 200 word reflection documenting your process from assignment 1, and your presentation and review experience with your partner at the bottom of the Jupyter Notebook under a new heading \"Reflection.\" Again, export this Notebook as pdf.\n"
   ]
  },
  {
   "cell_type": "markdown",
   "metadata": {},
   "source": [
    "### Reflection"
   ]
  },
  {
   "cell_type": "markdown",
   "metadata": {},
   "source": [
    "The questions in assignment 1, part 2 were really helpful in breaking down the problem into simpler steps and made it easier to find a solution. Going through the process of explaining why a proposed solution worked also helped to test my understanding of the assigned problem. \n",
    "\n",
    "The layout for the first assignment was a little confusing, especially figuring out where to add coding solution (either part 1 or part 2). Related to that, my partner had included 2 different solutions in their assignment 1 and I initially started reviewing the code they had included in part 1 starter code before realizing their proposed solution was actually in part 2. \n",
    "\n",
    "For assignment 2, the process of paraphrasing the assigned problem was helpful in building the solution. I tried to come up with a solution to problem 2 before reviewing my partner's code and ended up with a similar solution in mind. So I did not have further suggestions for improvement since their solution was already optimized in time and space complexity. Overall, this was still a good exercise to learn how to understand someone else’s code and provide constructive feedback.\n"
   ]
  },
  {
   "cell_type": "markdown",
   "metadata": {},
   "source": [
    "\n",
    "## Evaluation Criteria\n",
    "\n",
    "We are looking for the similar points as Assignment 1\n",
    "\n",
    "-   Problem is accurately stated\n",
    "\n",
    "-   New example is correct and easily understandable\n",
    "\n",
    "-   Correctness, time, and space complexity of the coding solution\n",
    "\n",
    "-   Clarity in explaining why the solution works, its time and space complexity\n",
    "\n",
    "-   Quality of critique of your partner's assignment, if necessary\n"
   ]
  },
  {
   "cell_type": "markdown",
   "metadata": {},
   "source": [
    "## Submission Information\n",
    "\n",
    "🚨 **Please review our [Assignment Submission Guide](https://github.com/UofT-DSI/onboarding/blob/main/onboarding_documents/submissions.md)** 🚨 for detailed instructions on how to format, branch, and submit your work. Following these guidelines is crucial for your submissions to be evaluated correctly.\n",
    "\n",
    "### Submission Parameters:\n",
    "* Submission Due Date: `HH:MM AM/PM - DD/MM/YYYY`\n",
    "* The branch name for your repo should be: `assignment-2`\n",
    "* What to submit for this assignment:\n",
    "    * This Jupyter Notebook (assignment_2.ipynb) should be populated and should be the only change in your pull request.\n",
    "* What the pull request link should look like for this assignment: `https://github.com/<your_github_username>/algorithms_and_data_structures/pull/<pr_id>`\n",
    "    * Open a private window in your browser. Copy and paste the link to your pull request into the address bar. Make sure you can see your pull request properly. This helps the technical facilitator and learning support staff review your submission easily.\n",
    "\n",
    "Checklist:\n",
    "- [ ] Created a branch with the correct naming convention.\n",
    "- [ ] Ensured that the repository is public.\n",
    "- [ ] Reviewed the PR description guidelines and adhered to them.\n",
    "- [ ] Verify that the link is accessible in a private browser window.\n",
    "\n",
    "If you encounter any difficulties or have questions, please don't hesitate to reach out to our team via our Slack at `#cohort-6-help`. Our Technical Facilitators and Learning Support staff are here to help you navigate any challenges.\n"
   ]
  },
  {
   "cell_type": "code",
   "execution_count": null,
   "metadata": {},
   "outputs": [],
   "source": []
  }
 ],
 "metadata": {
  "kernelspec": {
   "display_name": "dsi_participant",
   "language": "python",
   "name": "python3"
  },
  "language_info": {
   "codemirror_mode": {
    "name": "ipython",
    "version": 3
   },
   "file_extension": ".py",
   "mimetype": "text/x-python",
   "name": "python",
   "nbconvert_exporter": "python",
   "pygments_lexer": "ipython3",
   "version": "3.9.21"
  }
 },
 "nbformat": 4,
 "nbformat_minor": 4
}
